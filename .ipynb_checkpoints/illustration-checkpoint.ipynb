{
 "cells": [
  {
   "cell_type": "code",
   "execution_count": 2,
   "metadata": {},
   "outputs": [],
   "source": [
    "import numpy as np\n",
    "import pandas as pd\n",
    "\n",
    "import matplotlib as mpl\n",
    "import matplotlib.pyplot as plt\n",
    "import matplotlib.cm as cm\n",
    "import matplotlib.patches as mpatches\n",
    "from matplotlib.ticker import FuncFormatter\n",
    "import seaborn as sns; sns.set(); sns.set(font_scale=1.0); sns.set_style(\"white\"); \n",
    "\n",
    "from sklearn.model_selection import train_test_split\n",
    "from scipy.interpolate import splprep, splev\n",
    "\n",
    "from scipy.stats import norm, multivariate_normal, gamma\n",
    "from scipy.stats import t as studentt\n",
    "\n",
    "import torch\n",
    "from torch import optim\n",
    "from torch.distributions import Normal, Poisson, Gamma, StudentT\n",
    "from torch.nn.functional import softplus\n",
    "from torch.nn import Hardtanh\n",
    "\n",
    "from scipy.stats import poisson\n",
    "from collections import OrderedDict\n",
    "\n",
    "from hashlib import md5\n",
    "\n",
    "from aux_plt import *"
   ]
  },
  {
   "cell_type": "code",
   "execution_count": 3,
   "metadata": {},
   "outputs": [
    {
     "name": "stdout",
     "output_type": "stream",
     "text": [
      "Iteration: 0; ELBO: 0.58; qloc: 0.01; qscale: 5.00\n",
      "Iteration: 1000; ELBO: 0.61; qloc: 0.11; qscale: 4.97\n",
      "Iteration: 2000; ELBO: 0.37; qloc: 0.08; qscale: 4.77\n",
      "Iteration: 3000; ELBO: -0.23; qloc: 0.06; qscale: 4.79\n",
      "Iteration: 4000; ELBO: 0.52; qloc: 0.03; qscale: 4.89\n",
      "Iteration: 5000; ELBO: 0.49; qloc: -0.15; qscale: 4.89\n",
      "Iteration: 6000; ELBO: -0.19; qloc: 0.14; qscale: 4.67\n",
      "Iteration: 7000; ELBO: 0.60; qloc: 0.07; qscale: 4.87\n",
      "Iteration: 8000; ELBO: 0.41; qloc: -0.06; qscale: 4.79\n",
      "Iteration: 9000; ELBO: -0.21; qloc: -0.15; qscale: 4.71\n"
     ]
    }
   ],
   "source": [
    "# vanilla VI for fitting variational approximation\n",
    "niter = 10000\n",
    "M = 1 \n",
    "\n",
    "def model_log_prob(x):\n",
    "             return StudentT(1, 0., 3.).log_prob(x)\n",
    "  \n",
    "qloc = torch.tensor(0., requires_grad=True)\n",
    "qscale = torch.tensor(5., requires_grad=True)\n",
    "optimizer = torch.optim.Adamax(([qloc, qscale]), lr = 0.01)\n",
    "\n",
    "for t in range(niter):\n",
    "    optimizer.zero_grad()\n",
    "    elbo = 0.\n",
    "    \n",
    "    q = Normal(qloc, softplus(qscale))\n",
    "    theta = q.rsample(torch.Size([M]))\n",
    "    elbo = model_log_prob(theta).sum() -  q.log_prob(theta).sum()  \n",
    "    loss = -elbo/M\n",
    "    \n",
    "    loss.backward() \n",
    "    optimizer.step()\n",
    "    \n",
    " \n",
    "    if t%1000 == 0:\n",
    "        print(\"Iteration: %d; ELBO: %.2f; qloc: %.2f; qscale: %.2f\" % (t, loss, qloc, softplus(qscale)), end = '\\n')"
   ]
  },
  {
   "cell_type": "code",
   "execution_count": 4,
   "metadata": {},
   "outputs": [],
   "source": [
    "loc, scale = qloc.detach().numpy(), softplus(qscale).detach().numpy()\n",
    "theta = np.linspace(-15,15,100)"
   ]
  },
  {
   "cell_type": "code",
   "execution_count": 5,
   "metadata": {},
   "outputs": [],
   "source": [
    "def tilted_optimal_h(ys, q):   \n",
    "    quantiles = np.percentile(ys, int(q*100), axis=0)\n",
    "    return quantiles"
   ]
  },
  {
   "cell_type": "code",
   "execution_count": 6,
   "metadata": {},
   "outputs": [],
   "source": [
    "ys = norm.rvs(loc, scale, 1000)\n",
    "nh = np.percentile(ys, int(0.9*100), axis=0)\n",
    "\n",
    "ys = studentt.rvs(1., 0., 3., 1000)\n",
    "sh = np.percentile(ys, int(0.9*100), axis=0)"
   ]
  },
  {
   "cell_type": "code",
   "execution_count": 7,
   "metadata": {},
   "outputs": [
    {
     "data": {
      "image/png": "[encoded data removed]",
      "text/plain": [
       "<Figure size 460.8x345.6 with 1 Axes>"
      ]
     },
     "metadata": {},
     "output_type": "display_data"
    }
   ],
   "source": [
    "start_plotting(cmbright=False, font_size=17*1.5)\n",
    "\n",
    "ax = plt.gca()\n",
    "yy  = norm.pdf(theta, loc, scale)\n",
    "ymin = yy.min()\n",
    "ax.fill_between(theta, ymin , yy, facecolor=BLUE, alpha=0.2)\n",
    "yy  = studentt.pdf(theta, 1., 0., 3.)\n",
    "ax.fill_between(theta, ymin , yy, facecolor=RED, alpha=0.3)\n",
    "ax.axvline(x=nh-1, color = BLUE, label = r\"$q$-optimal\", lw = 3)\n",
    "ax.axvline(x=sh+1, color = RED, label = r\"$p$-optimal\", lw= 3)\n",
    "ax.annotate(\n",
    "    '', xy=(nh-1, 0.05), xycoords='data',\n",
    "    xytext=(sh+1, 0.05), textcoords='data',\n",
    "    arrowprops={'arrowstyle': '<->',   'color':'steelblue'}, label = \"\\epislon-discrepancy\")\n",
    "\n",
    "ax.text(nh+1, 0.053,r\"$\\epsilon$\", fontsize=20)\n",
    "ax.text(-10.5, 0.04,r\"$q(y)$\", fontsize=20)\n",
    "ax.text(-4.5, 0.09,r\"$p(y)$\", fontsize=20)\n",
    "    \n",
    "    \n",
    "\n",
    "plt.xticks([])\n",
    "plt.yticks([])\n",
    "ax.spines['right'].set_visible(False)\n",
    "ax.spines['top'].set_visible(False)\n",
    "ax.spines['left'].set_visible(False)\n",
    "plt.legend(fontsize=17, loc=2, frameon = False);\n",
    "plt.xlabel(r\"$y$\", fontsize=21);\n",
    "# plt.savefig(\"toy.pdf\", bbox_inches='tight', pad_inches=0)\n",
    "plt.show()\n",
    "    "
   ]
  },
  {
   "cell_type": "code",
   "execution_count": null,
   "metadata": {},
   "outputs": [],
   "source": []
  }
 ],
 "metadata": {
  "kernelspec": {
   "display_name": "Python 3",
   "language": "python",
   "name": "python3"
  },
  "language_info": {
   "codemirror_mode": {
    "name": "ipython",
    "version": 3
   },
   "file_extension": ".py",
   "mimetype": "text/x-python",
   "name": "python",
   "nbconvert_exporter": "python",
   "pygments_lexer": "ipython3",
   "version": "3.6.8"
  }
 },
 "nbformat": 4,
 "nbformat_minor": 2
}
